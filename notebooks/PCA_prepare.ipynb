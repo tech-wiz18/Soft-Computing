{
 "cells": [
  {
   "cell_type": "code",
   "execution_count": 3,
   "metadata": {},
   "outputs": [],
   "source": [
    "import numpy as np\n",
    "import pandas as pd\n",
    "from sklearn.decomposition import PCA\n",
    "from sklearn.preprocessing import StandardScaler\n",
    "import cv2\n",
    "import glob\n",
    "import pywt\n",
    "import os\n",
    "import matplotlib.pyplot as plt"
   ]
  },
  {
   "cell_type": "markdown",
   "metadata": {},
   "source": [
    "Storing Four different CSV consisiting of :-\n",
    " - First with PCA only\n",
    " - Second With wavelet transform and then PCA \n",
    " - Third with Standard Scaled wavelet images\n",
    " - Fourth with Standard Scaled gray images"
   ]
  },
  {
   "cell_type": "code",
   "execution_count": 4,
   "metadata": {},
   "outputs": [],
   "source": [
    "train_imgs = glob.glob(\"../data/train/*/*\")"
   ]
  },
  {
   "cell_type": "code",
   "execution_count": 5,
   "metadata": {},
   "outputs": [],
   "source": [
    "pca_only = []\n",
    "wavelet_pca = []\n",
    "names = []\n",
    "for img_path in train_imgs:\n",
    "    names.append(os.path.basename(img_path)[:-9])\n",
    "    ## reading and gray scaling image\n",
    "    img = cv2.imread(img_path)\n",
    "    gray = cv2.cvtColor(img, cv2.COLOR_BGR2GRAY)\n",
    "    ## transfroming into db4 wavelet and choose LL Subband\n",
    "    cA, (cH, cV, cD) = pywt.dwt2(gray, \"db4\")\n",
    "    wavelet_pca.append(np.ravel(cA))\n",
    "    pca_only.append(np.ravel(gray))\n",
    "    "
   ]
  },
  {
   "cell_type": "code",
   "execution_count": 6,
   "metadata": {},
   "outputs": [],
   "source": [
    "wavelet_pca = np.asarray(wavelet_pca)\n",
    "pca_only = np.asarray(pca_only)"
   ]
  },
  {
   "cell_type": "code",
   "execution_count": 7,
   "metadata": {},
   "outputs": [],
   "source": [
    "## normalizing bot data using Standard Scaler \n",
    "s1 = StandardScaler()\n",
    "s2 = StandardScaler()\n",
    "normalized_wavelet_pca = s1.fit_transform(wavelet_pca)\n",
    "normalized_pca_only =s2.fit_transform(pca_only)"
   ]
  },
  {
   "cell_type": "code",
   "execution_count": 8,
   "metadata": {},
   "outputs": [
    {
     "data": {
      "text/plain": [
       "PCA()"
      ]
     },
     "execution_count": 8,
     "metadata": {},
     "output_type": "execute_result"
    }
   ],
   "source": [
    "## for wavelet type\n",
    "p1 = PCA()\n",
    "p1.fit(normalized_wavelet_pca)"
   ]
  },
  {
   "cell_type": "code",
   "execution_count": 9,
   "metadata": {},
   "outputs": [
    {
     "data": {
      "text/plain": [
       "PCA()"
      ]
     },
     "execution_count": 9,
     "metadata": {},
     "output_type": "execute_result"
    }
   ],
   "source": [
    "## for normal gray image\n",
    "p2 = PCA()\n",
    "p2.fit(normalized_pca_only)"
   ]
  },
  {
   "cell_type": "code",
   "execution_count": 10,
   "metadata": {},
   "outputs": [
    {
     "data": {
      "text/plain": [
       "[<matplotlib.lines.Line2D at 0x7fe9a4ed5880>]"
      ]
     },
     "execution_count": 10,
     "metadata": {},
     "output_type": "execute_result"
    },
    {
     "data": {
      "image/png": "[encoded data removed]",
      "text/plain": [
       "<Figure size 432x288 with 1 Axes>"
      ]
     },
     "metadata": {
      "needs_background": "light"
     },
     "output_type": "display_data"
    }
   ],
   "source": [
    "plt.plot(np.cumsum(p1.explained_variance_ratio_))\n",
    "plt.plot(np.cumsum(p2.explained_variance_ratio_))"
   ]
  },
  {
   "cell_type": "code",
   "execution_count": 11,
   "metadata": {},
   "outputs": [
    {
     "name": "stdout",
     "output_type": "stream",
     "text": [
      "number of features which explained more than 96% variance\n",
      "for wavelet based pca -  183\n",
      "for gray image pca -  218\n"
     ]
    }
   ],
   "source": [
    "print(\"number of features which explained more than 96% variance\")\n",
    "print(\"for wavelet based pca - \", np.where(np.cumsum(p1.explained_variance_ratio_)>0.96)[0][0])\n",
    "print(\"for gray image pca - \", np.where(np.cumsum(p2.explained_variance_ratio_)>0.96)[0][0])\n",
    "## out of 1225 only 183 features is needed for explaining more than 96 percent variance in wavelet based pca\n",
    "## out of 4096 only 218 features is needed for explaining more than 96 percent variance in gray image pca\n",
    "## means most of the features are redundant in original image\n"
   ]
  },
  {
   "cell_type": "code",
   "execution_count": 12,
   "metadata": {},
   "outputs": [],
   "source": [
    "eigen_vecs_wavelet = pd.DataFrame(p1.components_)\n",
    "eigen_vecs_gray = pd.DataFrame(p2.components_)\n",
    "wavelet_std_features = pd.DataFrame(normalized_wavelet_pca)\n",
    "gray_std_features = pd.DataFrame(normalized_pca_only)\n",
    "wavelet_std_features[\"names\"] = names\n",
    "gray_std_features['names'] = names"
   ]
  },
  {
   "cell_type": "code",
   "execution_count": 13,
   "metadata": {},
   "outputs": [],
   "source": [
    "eigen_vecs_wavelet.to_csv(\"../data/eigen_vecs_wavelet.csv\", index = False)\n",
    "eigen_vecs_gray.to_csv(\"../data/eigen_vecs_gray.csv\", index = False)\n",
    "wavelet_std_features.to_csv(\"../data/wavelet_std_features.csv\", index = False)\n",
    "gray_std_features.to_csv(\"../data/gray_std_features.csv\", index = False)"
   ]
  },
  {
   "cell_type": "code",
   "execution_count": 14,
   "metadata": {},
   "outputs": [],
   "source": [
    "## storing the mean of train data for preprocessing test data\n",
    "with open(\"../config/wavelet_mean.txt\", \"w\") as w:\n",
    "    w.write(\"[\")\n",
    "    w.write(\"\\n\")\n",
    "    mean = s1.mean_\n",
    "    for i in mean:\n",
    "      w.write(str(i))\n",
    "      w.write(\"\\n\")\n",
    "    w.write(\"]\")\n",
    "    w.write(\"\\n\")\n",
    "with open(\"../config/gray_mean.txt\", \"w\") as w:\n",
    "    w.write(\"[\")\n",
    "    w.write(\"\\n\")\n",
    "    mean = s2.mean_\n",
    "    for i in mean:\n",
    "      w.write(str(i))\n",
    "      w.write(\"\\n\")\n",
    "    w.write(\"]\")\n",
    "    w.write(\"\\n\")\n",
    "    "
   ]
  },
  {
   "cell_type": "code",
   "execution_count": null,
   "metadata": {},
   "outputs": [],
   "source": []
  }
 ],
 "metadata": {
  "interpreter": {
   "hash": "982e651b94398953ffcf43eade11b6f76e0faff8bb43f110ed109193ea4b0bcf"
  },
  "kernelspec": {
   "display_name": "Python 3.8.13 ('oe_env': venv)",
   "language": "python",
   "name": "python3"
  },
  "language_info": {
   "codemirror_mode": {
    "name": "ipython",
    "version": 3
   },
   "file_extension": ".py",
   "mimetype": "text/x-python",
   "name": "python",
   "nbconvert_exporter": "python",
   "pygments_lexer": "ipython3",
   "version": "3.8.13"
  },
  "orig_nbformat": 4
 },
 "nbformat": 4,
 "nbformat_minor": 2
}
