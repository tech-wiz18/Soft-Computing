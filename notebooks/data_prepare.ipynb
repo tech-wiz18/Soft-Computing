{
 "cells": [
  {
   "cell_type": "code",
   "execution_count": 46,
   "metadata": {},
   "outputs": [],
   "source": [
    "## Scripts for data preparation into separate folders\n",
    "import numpy as np\n",
    "import pandas as pd\n",
    "import os"
   ]
  },
  {
   "cell_type": "code",
   "execution_count": 47,
   "metadata": {},
   "outputs": [],
   "source": [
    "path = \"../lfwcrop_color/faces\"\n",
    "imgs = os.listdir(path)\n",
    "names = list(map(lambda x:x[:-9], imgs))\n",
    "ids = np.unique(names)\n",
    "\n",
    "## NOW WE SELECTING ONlY THOSE IDS WHICH HAVE GREATER THAN ONE IMAGE\n",
    "\n",
    "cnts = pd.value_counts(names)\n",
    "ids_g_1 = list(cnts.index[cnts.values>1])\n",
    "\n",
    "np.random.shuffle(ids_g_1)\n",
    "train_part = int(0.8*len(ids_g_1)) ## 80 percentage for training and remaining for testing\n",
    "\n",
    "train_ids = ids_g_1[0:train_part]\n",
    "test_ids = ids_g_1[train_part:]\n"
   ]
  },
  {
   "cell_type": "code",
   "execution_count": 48,
   "metadata": {},
   "outputs": [],
   "source": [
    "## path for creating directories\n",
    "train_path = \"../data/train\"\n",
    "test_path = \"../data/test\""
   ]
  },
  {
   "cell_type": "code",
   "execution_count": 49,
   "metadata": {},
   "outputs": [],
   "source": [
    "## moving images one by one from source to destination\n",
    "    \n",
    "for i in imgs:\n",
    "    name = i[:-9]\n",
    "    if name in train_ids:\n",
    "        if not os.path.exists(train_path+\"/\"+name):\n",
    "            os.makedirs(train_path+\"/\"+name)\n",
    "        os.rename(path+\"/\"+i, train_path+\"/\"+name +\"/\" + i)\n",
    "    elif name in test_ids:\n",
    "        if not os.path.exists(test_path+\"/\"+name):\n",
    "            os.makedirs(test_path+\"/\"+name)\n",
    "        os.rename(path+\"/\"+i, test_path+\"/\"+name +\"/\" + i)\n",
    "        "
   ]
  }
 ],
 "metadata": {
  "interpreter": {
   "hash": "982e651b94398953ffcf43eade11b6f76e0faff8bb43f110ed109193ea4b0bcf"
  },
  "kernelspec": {
   "display_name": "Python 3.8.13 ('oe_env': venv)",
   "language": "python",
   "name": "python3"
  },
  "language_info": {
   "codemirror_mode": {
    "name": "ipython",
    "version": 3
   },
   "file_extension": ".py",
   "mimetype": "text/x-python",
   "name": "python",
   "nbconvert_exporter": "python",
   "pygments_lexer": "ipython3",
   "version": "3.8.13"
  },
  "orig_nbformat": 4
 },
 "nbformat": 4,
 "nbformat_minor": 2
}
